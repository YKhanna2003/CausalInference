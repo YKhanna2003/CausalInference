{
  "cells": [
    {
      "cell_type": "code",
      "execution_count": 2,
      "metadata": {
        "id": "L0Iob6KVph8z"
      },
      "outputs": [],
      "source": [
        "import numpy as np"
      ]
    },
    {
      "cell_type": "code",
      "execution_count": 3,
      "metadata": {
        "colab": {
          "base_uri": "https://localhost:8080/"
        },
        "id": "i5oCsbkDpkrd",
        "outputId": "3729c96e-8f5f-4e83-9480-4f5b9117c566"
      },
      "outputs": [
        {
          "data": {
            "text/plain": [
              "{0: 'Yash Khanna', 1: 'Harsh Gujarathi', 2: 'Vaibhav'}"
            ]
          },
          "execution_count": 3,
          "metadata": {},
          "output_type": "execute_result"
        }
      ],
      "source": [
        "state = {\n",
        "    0 : \"Yash Khanna\",\n",
        "    1 : \"Harsh Gujarathi\",\n",
        "    2 : \"Vaibhav\"\n",
        "}\n",
        "state"
      ]
    },
    {
      "cell_type": "code",
      "execution_count": 4,
      "metadata": {
        "colab": {
          "base_uri": "https://localhost:8080/"
        },
        "id": "kHHrjS8KqKe5",
        "outputId": "923d935d-6cd8-48ff-8c42-fcba5d5393bc"
      },
      "outputs": [
        {
          "data": {
            "text/plain": [
              "array([[0. , 0.5, 0.5],\n",
              "       [0.3, 0. , 0.7],\n",
              "       [0.5, 0.5, 0. ]])"
            ]
          },
          "execution_count": 4,
          "metadata": {},
          "output_type": "execute_result"
        }
      ],
      "source": [
        "A = np.array([[0.0, 0.5, 0.5], [0.3, 0.0, 0.7], [0.5, 0.5, 0.0]])\n",
        "A"
      ]
    },
    {
      "cell_type": "code",
      "execution_count": 5,
      "metadata": {
        "colab": {
          "base_uri": "https://localhost:8080/"
        },
        "id": "qAwJ-3Y_qVlk",
        "outputId": "0473ba19-9a25-40d5-840d-7674399adcec"
      },
      "outputs": [
        {
          "name": "stdout",
          "output_type": "stream",
          "text": [
            "Yash Khanna ---> Harsh Gujarathi ---> Vaibhav ---> Harsh Gujarathi ---> Vaibhav ---> Harsh Gujarathi ---> Vaibhav ---> Yash Khanna ---> Harsh Gujarathi ---> Vaibhav ---> Yash Khanna ---> Harsh Gujarathi ---> Vaibhav ---> Yash Khanna ---> Vaibhav ---> stop\n"
          ]
        }
      ],
      "source": [
        "n = 15\n",
        "start_state = 0\n",
        "curr_state = start_state\n",
        "print(state[curr_state], \"--->\", end=\" \")\n",
        "\n",
        "while n-1:\n",
        "    curr_state = np.random.choice([0, 1, 2], p=A[curr_state])\n",
        "    print(state[curr_state], \"--->\", end=\" \")\n",
        "    n-=1\n",
        "print(\"stop\")"
      ]
    },
    {
      "cell_type": "code",
      "execution_count": 6,
      "metadata": {
        "colab": {
          "base_uri": "https://localhost:8080/"
        },
        "id": "bvpr8krOqXtb",
        "outputId": "e92e3f66-593d-4c1b-cc44-06604a67b521"
      },
      "outputs": [
        {
          "name": "stdout",
          "output_type": "stream",
          "text": [
            "π =  [0.28885  0.332915 0.378236]\n"
          ]
        }
      ],
      "source": [
        "steps = 10**6\n",
        "start_state = 0\n",
        "curr_state = start_state\n",
        "pi = np.array([0, 0, 0])\n",
        "pi[start_state] = 1\n",
        "\n",
        "i = 0\n",
        "while i<steps:\n",
        "    curr_state = np.random.choice([0,1,2], p=A[curr_state])\n",
        "    pi[curr_state]+=1\n",
        "    i +=1\n",
        "\n",
        "print(\"π = \", pi/steps)"
      ]
    },
    {
      "cell_type": "code",
      "execution_count": 7,
      "metadata": {
        "colab": {
          "base_uri": "https://localhost:8080/"
        },
        "id": "EYDcQz3UqaEr",
        "outputId": "4bbdbbed-c2ea-4a26-fba0-a4c4f2461024"
      },
      "outputs": [
        {
          "name": "stdout",
          "output_type": "stream",
          "text": [
            "A^n = \n",
            " [[0.28888889 0.33333333 0.37777778]\n",
            " [0.28888889 0.33333333 0.37777778]\n",
            " [0.28888889 0.33333333 0.37777778]] \n",
            "\n",
            "π =  [0.28888889 0.33333333 0.37777778]\n"
          ]
        }
      ],
      "source": [
        "steps = 10**3\n",
        "A_n = A\n",
        "\n",
        "i=0\n",
        "while i<steps:\n",
        "    A_n =  np.matmul(A_n, A)\n",
        "    i+=1\n",
        "\n",
        "print(\"A^n = \\n\", A_n, \"\\n\")\n",
        "print(\"π = \", A_n[0])"
      ]
    },
    {
      "cell_type": "code",
      "execution_count": 8,
      "metadata": {
        "colab": {
          "base_uri": "https://localhost:8080/"
        },
        "id": "2e9zGBFwqckM",
        "outputId": "aa7d78be-a04e-4dfa-e20b-da14fa84c71a"
      },
      "outputs": [
        {
          "name": "stdout",
          "output_type": "stream",
          "text": [
            "left eigen vectors = \n",
            " [[ 4.97431176e-01+0.00000000e+00j -7.07106781e-01+1.47115583e-08j\n",
            "  -7.07106781e-01-1.47115583e-08j]\n",
            " [ 5.73959049e-01+0.00000000e+00j  3.24440742e-17-1.47115583e-08j\n",
            "   3.24440742e-17+1.47115583e-08j]\n",
            " [ 6.50486922e-01+0.00000000e+00j  7.07106781e-01+0.00000000e+00j\n",
            "   7.07106781e-01-0.00000000e+00j]] \n",
            "\n",
            "eigen values = \n",
            " [ 1. +0.00000000e+00j -0.5+4.16105706e-09j -0.5-4.16105706e-09j]\n"
          ]
        }
      ],
      "source": [
        "import scipy.linalg\n",
        "values, left = scipy.linalg.eig(A, right = False, left = True)\n",
        "\n",
        "print(\"left eigen vectors = \\n\", left, \"\\n\")\n",
        "print(\"eigen values = \\n\", values)"
      ]
    },
    {
      "cell_type": "code",
      "execution_count": 9,
      "metadata": {
        "colab": {
          "base_uri": "https://localhost:8080/"
        },
        "id": "aSEeFWSsqfDz",
        "outputId": "2b8d9350-8914-4431-f305-10dd48cbbfcc"
      },
      "outputs": [
        {
          "data": {
            "text/plain": [
              "[0.28888888888888875, 0.33333333333333337, 0.3777777777777779]"
            ]
          },
          "execution_count": 9,
          "metadata": {},
          "output_type": "execute_result"
        }
      ],
      "source": [
        "pi = left[:,0]\n",
        "pi_normalized = [(x/np.sum(pi)).real for x in pi]\n",
        "pi_normalized"
      ]
    },
    {
      "cell_type": "code",
      "execution_count": 10,
      "metadata": {
        "colab": {
          "base_uri": "https://localhost:8080/"
        },
        "id": "jUbAlkdOqjCM",
        "outputId": "d7796689-1639-4b6f-9176-f354bf2a0650"
      },
      "outputs": [
        {
          "name": "stdout",
          "output_type": "stream",
          "text": [
            "0.0\n"
          ]
        }
      ],
      "source": [
        "def find_prob(seq, A, pi):\n",
        "    start_state = seq[0]\n",
        "    prob = pi[start_state]\n",
        "    prev_state, curr_state = start_state, start_state\n",
        "    for i in range(1, len(seq)):\n",
        "        curr_state = seq[i]\n",
        "        prob *= A[prev_state][curr_state]\n",
        "        prev_state = curr_state\n",
        "    return prob\n",
        "\n",
        "print(find_prob([1, 2, 2, 0], A, pi_normalized))"
      ]
    }
  ],
  "metadata": {
    "colab": {
      "provenance": []
    },
    "kernelspec": {
      "display_name": "Python 3.8.5 ('base')",
      "language": "python",
      "name": "python3"
    },
    "language_info": {
      "name": "python",
      "version": "3.8.5"
    },
    "vscode": {
      "interpreter": {
        "hash": "a32783a5d77849cdbea9a9bbcd9ccf13da0296094407439f5d17e689ed0d5976"
      }
    }
  },
  "nbformat": 4,
  "nbformat_minor": 0
}
