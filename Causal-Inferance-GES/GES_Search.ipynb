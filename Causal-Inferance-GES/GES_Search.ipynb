{
  "cells": [
    {
      "cell_type": "code",
      "execution_count": 2,
      "metadata": {
        "colab": {
          "base_uri": "https://localhost:8080/"
        },
        "id": "jePYbmi1vJuF",
        "outputId": "64e2b1da-78b4-404e-b5f4-0e935e9a3ec9"
      },
      "outputs": [
        {
          "name": "stdout",
          "output_type": "stream",
          "text": [
            "Looking in indexes: https://pypi.org/simple, https://us-python.pkg.dev/colab-wheels/public/simple/\n",
            "Requirement already satisfied: causal-learn in /usr/local/lib/python3.8/dist-packages (0.1.3.1)\n",
            "Requirement already satisfied: numpy in /usr/local/lib/python3.8/dist-packages (from causal-learn) (1.21.6)\n",
            "Requirement already satisfied: pandas in /usr/local/lib/python3.8/dist-packages (from causal-learn) (1.3.5)\n",
            "Requirement already satisfied: scipy in /usr/local/lib/python3.8/dist-packages (from causal-learn) (1.7.3)\n",
            "Requirement already satisfied: pydot in /usr/local/lib/python3.8/dist-packages (from causal-learn) (1.3.0)\n",
            "Requirement already satisfied: statsmodels in /usr/local/lib/python3.8/dist-packages (from causal-learn) (0.12.2)\n",
            "Requirement already satisfied: scikit-learn in /usr/local/lib/python3.8/dist-packages (from causal-learn) (1.0.2)\n",
            "Requirement already satisfied: tqdm in /usr/local/lib/python3.8/dist-packages (from causal-learn) (4.64.1)\n",
            "Requirement already satisfied: matplotlib in /usr/local/lib/python3.8/dist-packages (from causal-learn) (3.2.2)\n",
            "Requirement already satisfied: graphviz in /usr/local/lib/python3.8/dist-packages (from causal-learn) (0.10.1)\n",
            "Requirement already satisfied: networkx in /usr/local/lib/python3.8/dist-packages (from causal-learn) (2.6.3)\n",
            "Requirement already satisfied: python-dateutil>=2.1 in /usr/local/lib/python3.8/dist-packages (from matplotlib->causal-learn) (2.8.2)\n",
            "Requirement already satisfied: pyparsing!=2.0.4,!=2.1.2,!=2.1.6,>=2.0.1 in /usr/local/lib/python3.8/dist-packages (from matplotlib->causal-learn) (3.0.9)\n",
            "Requirement already satisfied: kiwisolver>=1.0.1 in /usr/local/lib/python3.8/dist-packages (from matplotlib->causal-learn) (1.4.4)\n",
            "Requirement already satisfied: cycler>=0.10 in /usr/local/lib/python3.8/dist-packages (from matplotlib->causal-learn) (0.11.0)\n",
            "Requirement already satisfied: six>=1.5 in /usr/local/lib/python3.8/dist-packages (from python-dateutil>=2.1->matplotlib->causal-learn) (1.15.0)\n",
            "Requirement already satisfied: pytz>=2017.3 in /usr/local/lib/python3.8/dist-packages (from pandas->causal-learn) (2022.6)\n",
            "Requirement already satisfied: threadpoolctl>=2.0.0 in /usr/local/lib/python3.8/dist-packages (from scikit-learn->causal-learn) (3.1.0)\n",
            "Requirement already satisfied: joblib>=0.11 in /usr/local/lib/python3.8/dist-packages (from scikit-learn->causal-learn) (1.2.0)\n",
            "Requirement already satisfied: patsy>=0.5 in /usr/local/lib/python3.8/dist-packages (from statsmodels->causal-learn) (0.5.3)\n",
            "Cloning into 'Causal-Inferance-GES'...\n",
            "remote: Enumerating objects: 15, done.\u001b[K\n",
            "remote: Counting objects: 100% (15/15), done.\u001b[K\n",
            "remote: Compressing objects: 100% (12/12), done.\u001b[K\n",
            "remote: Total 15 (delta 0), reused 8 (delta 0), pack-reused 0\u001b[K\n",
            "Unpacking objects: 100% (15/15), done.\n"
          ]
        }
      ],
      "source": [
        "!pip install causal-learn\n",
        "!git clone https://github.com/Causal-Inferance/Causal-Inferance-GES.git"
      ]
    },
    {
      "cell_type": "code",
      "execution_count": 5,
      "metadata": {
        "id": "gfA8AvB9vBlR"
      },
      "outputs": [],
      "source": [
        "\n",
        "import numpy as np\n",
        "data=np.array([1,1,3,4,5,5])\n"
      ]
    },
    {
      "cell_type": "code",
      "execution_count": 6,
      "metadata": {
        "id": "6UEA4EhUuzsn"
      },
      "outputs": [],
      "source": [
        "import sys\n",
        "import io\n",
        "from causallearn.score.LocalScoreFunction import local_score_BDeu\n",
        "from causallearn.utils.GraphUtils import GraphUtils\n",
        "sys.path.append(\"\")\n",
        "import unittest\n",
        "import warnings\n",
        "from pickle import load\n",
        "import matplotlib.image as mpimg\n",
        "import matplotlib.pyplot as plt\n",
        "import numpy as np\n",
        "\n",
        "from causallearn.search.ScoreBased.GES import ges\n",
        "\n",
        "\n",
        "class TestGES(unittest.TestCase):\n",
        "    # Learning the causal structure with generalized score-based method and with GES search. The score function can be\n",
        "    # negative cross-validated log-likelihood or marginal log-likelihood with regression in RKHS\n",
        "\n",
        "    # example1\n",
        "    # for data with single-variate dimensions\n",
        "    # and score function is negative cross-validated log-likelihood\n",
        "    def test_single_CV(self):\n",
        "        with open(\"/content/Causal-Inferance-GES/dataset/FDS PartD Tutorial/example_data1.pk\", 'rb') as example_data1:\n",
        "            # example_data1 = load(open(\"example_data1.pk\", 'rb'))\n",
        "            example_data1 = load(example_data1)\n",
        "            G_truth = example_data1['G_truth']\n",
        "            X = example_data1['X']\n",
        "            X = X - np.tile(np.mean(X, axis=0), (X.shape[0], 1))\n",
        "            X = np.dot(X, np.diag(1 / np.std(X, axis=0)))\n",
        "            maxP = 5  # maximum number of parents when searching the graph\n",
        "            parameters = {'kfold': 10, 'lambda': 0.01}\n",
        "            X = X[:50, :]\n",
        "            Record = ges(X, 'local_score_CV_general', maxP=maxP, parameters=parameters)\n",
        "\n",
        "            pyd = GraphUtils.to_pydot(Record['G'])\n",
        "            tmp_png = pyd.create_png(f=\"png\")\n",
        "            fp = io.BytesIO(tmp_png)\n",
        "            img = mpimg.imread(fp, format='png')\n",
        "            plt.axis('off')\n",
        "            plt.imshow(img)\n",
        "            plt.show()\n",
        "\n",
        "            print(Record)\n",
        "\n",
        "    # example2\n",
        "    # for data with single-variate dimensions\n",
        "    # and score function is negative marginal likelihood\n",
        "    def test_single_marginal(self):\n",
        "        with open(\"/content/Causal-Inferance-GES/dataset/FDS PartD Tutorial/example_data1.pk\", 'rb') as example_data1:\n",
        "            # example_data1 = load(open(\"example_data1.pk\", 'rb'))\n",
        "            example_data1 = load(example_data1)\n",
        "            G_truth = example_data1['G_truth']\n",
        "            X = example_data1['X']\n",
        "            X = X - np.tile(np.mean(X, axis=0), (X.shape[0], 1))\n",
        "            X = np.dot(X, np.diag(1 / np.std(X, axis=0)))\n",
        "\n",
        "            maxP = 5  # maximum number of parents when searching the graph\n",
        "            parameters = {'kfold': 10, 'lambda': 0.01}\n",
        "            X = X[:50, :]\n",
        "            Record = ges(X, 'local_score_marginal_general', maxP=maxP, parameters=parameters)\n",
        "\n",
        "            pyd = GraphUtils.to_pydot(Record['G'])\n",
        "            tmp_png = pyd.create_png(f=\"png\")\n",
        "            fp = io.BytesIO(tmp_png)\n",
        "            img = mpimg.imread(fp, format='png')\n",
        "            plt.axis('off')\n",
        "            plt.imshow(img)\n",
        "            plt.show()\n",
        "\n",
        "            print(Record)\n",
        "\n",
        "    # example3\n",
        "    # for data with multi-dimensional variables\n",
        "    # and score function is negative cross-validated log-likelihood\n",
        "    def test_multi_CV(self):\n",
        "        with open(\"/content/Causal-Inferance-GES/dataset/FDS PartD Tutorial/example_data2.pk\", 'rb') as example_data:\n",
        "            # example_data = load(open(\"example_data2.pk\", 'rb'))\n",
        "            example_data = load(example_data)\n",
        "            Data_save = example_data['Data_save']\n",
        "            G_save = example_data['G_save']\n",
        "            d_label_save = example_data['d_label_save']\n",
        "\n",
        "            trial = 0\n",
        "            N = G_save[trial].shape[0]\n",
        "            X = Data_save[trial]\n",
        "            X = X - np.tile(np.mean(X, axis=0), (X.shape[0], 1))\n",
        "            X = np.dot(X, np.diag(1 / np.std(X, axis=0)))\n",
        "            maxP = 3  # maximum number of parents when searching the graph\n",
        "            parameters = {'kfold': 10,\n",
        "                          'lambda': 0.01,\n",
        "                          'dlabel': d_label_save[trial]}  # indicate which dimensions belong to the i-th variable.\n",
        "            X = X[:50, :]\n",
        "            Record = ges(X, 'local_score_CV_multi', maxP=maxP, parameters=parameters)\n",
        "\n",
        "            pyd = GraphUtils.to_pydot(Record['G'])\n",
        "            tmp_png = pyd.create_png(f=\"png\")\n",
        "            fp = io.BytesIO(tmp_png)\n",
        "            img = mpimg.imread(fp, format='png')\n",
        "            plt.axis('off')\n",
        "            plt.imshow(img)\n",
        "            plt.show()\n",
        "\n",
        "            print(Record)\n",
        "\n",
        "    # example4\n",
        "    # for data with multi-dimensional variables\n",
        "    # and score function is negative marginal likelihood\n",
        "    def test_multi_marginal(self):\n",
        "        with open(\"/content/Causal-Inferance-GES/dataset/FDS PartD Tutorial/example_data2.pk\", 'rb') as example_data:\n",
        "            # example_data = load(open(\"example_data2.pk\", 'rb'))\n",
        "            example_data = load(example_data)\n",
        "            Data_save = example_data['Data_save']\n",
        "            G_save = example_data['G_save']\n",
        "            d_label_save = example_data['d_label_save']\n",
        "\n",
        "            trial = 0\n",
        "            N = G_save[trial].shape[0]\n",
        "            X = Data_save[trial]\n",
        "            X = X - np.tile(np.mean(X, axis=0), (X.shape[0], 1))\n",
        "            X = np.dot(X, np.diag(1 / np.std(X, axis=0)))\n",
        "            maxP = 3  # maximum number of parents when searching the graph\n",
        "            parameters = {'kfold': 10,\n",
        "                          'lambda': 0.01,\n",
        "                          'dlabel': d_label_save[trial]}  # indicate which dimensions belong to the i-th variable.\n",
        "            X = X[:50, :]\n",
        "            Record = ges(X, 'local_score_marginal_multi', maxP=maxP, parameters=parameters)\n",
        "\n",
        "            pyd = GraphUtils.to_pydot(Record['G'])\n",
        "            tmp_png = pyd.create_png(f=\"png\")\n",
        "            fp = io.BytesIO(tmp_png)\n",
        "            img = mpimg.imread(fp, format='png')\n",
        "            plt.axis('off')\n",
        "            plt.imshow(img)\n",
        "            plt.show()\n",
        "\n",
        "            print(Record)\n",
        "\n",
        "    # example5\n",
        "    # for data with single-variate dimensions\n",
        "    # and score function is BIC score\n",
        "    def test_single_BIC(self):\n",
        "        with open(\"/content/Causal-Inferance-GES/dataset/FDS PartD Tutorial/example_data3.pk\", 'rb') as example_data:\n",
        "            # example_data = load(open(\"example_data3.pk\", 'rb'))\n",
        "            example_data = load(example_data)\n",
        "            X = example_data['X']\n",
        "            maxP = example_data['maxP']\n",
        "            # X = X[:50, :]\n",
        "            Record = ges(X, 'local_score_BIC', maxP=maxP)\n",
        "\n",
        "            pyd = GraphUtils.to_pydot(Record['G'])\n",
        "            tmp_png = pyd.create_png(f=\"png\")\n",
        "            fp = io.BytesIO(tmp_png)\n",
        "            img = mpimg.imread(fp, format='png')\n",
        "            plt.axis('off')\n",
        "            plt.imshow(img)\n",
        "            plt.show()\n",
        "\n",
        "            print(Record)\n",
        "\n",
        "    # example6\n",
        "    # for data with single-variate dimensions\n",
        "    # and score function is BDeu score\n",
        "    def test_single_BDeu(self):\n",
        "        X = np.loadtxt('example_data5.txt')\n",
        "        Record = ges(X, 'local_score_BDeu', maxP=5)\n",
        "\n",
        "        pyd = GraphUtils.to_pydot(Record['G'])\n",
        "        tmp_png = pyd.create_png(f=\"png\")\n",
        "        fp = io.BytesIO(tmp_png)\n",
        "        img = mpimg.imread(fp, format='png')\n",
        "        plt.axis('off')\n",
        "        plt.imshow(img)\n",
        "        plt.show()\n",
        "\n",
        "        print(Record)\n",
        "\n",
        "    # example7\n",
        "    def test_score_function_BDeu(self):\n",
        "        X = np.loadtxt('example_data6.txt').T\n",
        "        X = np.mat(X)\n",
        "        parameters = {'sample_prior': 1,  # default ess = 1\n",
        "                      'structure_prior': 1,\n",
        "                      'r_i_map': {i: len(np.unique(np.asarray(X[:, i]))) for i in range(X.shape[1])}}\n",
        "\n",
        "        score = local_score_BDeu(X, 20, [24], parameters)\n",
        "\n",
        "        print(score)"
      ]
    },
    {
      "cell_type": "code",
      "execution_count": 7,
      "metadata": {
        "colab": {
          "base_uri": "https://localhost:8080/",
          "height": 1000
        },
        "id": "bFaPA1vZ40wM",
        "outputId": "bc48483d-efb4-4143-95ab-3fccf3f37eef"
      },
      "outputs": [
        {
          "name": "stdout",
          "output_type": "stream",
          "text": [
            "[[ 0  0  0  0  0  0  0  0  0  0]\n",
            " [ 0  0  0  0  0  0  0  0  0  0]\n",
            " [ 0  0  0  0  0  0  0  0  0  0]\n",
            " [ 0  0  0  0  0  0  1  0  0  0]\n",
            " [ 0  0  0  0  0  0  0  0  0  0]\n",
            " [ 0  0  0  0  0  0  0  0  0  0]\n",
            " [ 0  0  0 -1  0  0  0  0  0  0]\n",
            " [ 0  0  0  0  0  0  0  0  0  0]\n",
            " [ 0  0  0  0  0  0  0  0  0  0]\n",
            " [ 0  0  0  0  0  0  0  0  0  0]]\n",
            "[[ 0  0  0  0  0  0  0  0  0  0]\n",
            " [ 0  0  0  0  0  0  0  0  0  0]\n",
            " [ 0  0  0  0  0  0  0  0  0  0]\n",
            " [ 0  0  0  0  0  0 -1  0  0  0]\n",
            " [ 0  0  0  0  0  0  0  0  0  0]\n",
            " [ 0  0  0  0  0  0  0  0  0  0]\n",
            " [ 0  0  0 -1  0  0  0  0  0  1]\n",
            " [ 0  0  0  0  0  0  0  0  0  0]\n",
            " [ 0  0  0  0  0  0  0  0  0  0]\n",
            " [ 0  0  0  0  0  0 -1  0  0  0]]\n",
            "[[ 0  1  0  0  0  0  0  0  0  0]\n",
            " [-1  0  0  0  0  0  0  0  0  0]\n",
            " [ 0  0  0  0  0  0  0  0  0  0]\n",
            " [ 0  0  0  0  0  0 -1  0  0  0]\n",
            " [ 0  0  0  0  0  0  0  0  0  0]\n",
            " [ 0  0  0  0  0  0  0  0  0  0]\n",
            " [ 0  0  0 -1  0  0  0  0  0 -1]\n",
            " [ 0  0  0  0  0  0  0  0  0  0]\n",
            " [ 0  0  0  0  0  0  0  0  0  0]\n",
            " [ 0  0  0  0  0  0 -1  0  0  0]]\n",
            "[[ 0 -1  0  0  0  0  0  0  0  0]\n",
            " [-1  0  0  0  0  0  0  0  0  0]\n",
            " [ 0  0  0  0  0  0  0  0  0  0]\n",
            " [ 0  0  0  0  0  0 -1  0  0  0]\n",
            " [ 0  0  0  0  0  0  0  0  0 -1]\n",
            " [ 0  0  0  0  0  0  0  0  0  0]\n",
            " [ 0  0  0 -1  0  0  0  0  0 -1]\n",
            " [ 0  0  0  0  0  0  0  0  0  0]\n",
            " [ 0  0  0  0  0  0  0  0  0  0]\n",
            " [ 0  0  0  0  1  0  1  0  0  0]]\n",
            "[[ 0 -1  0  0  0  0  0  0  0  0]\n",
            " [-1  0  0  0  0  0  0  0  0  0]\n",
            " [ 0  0  0  0  0  0  0  0  0  0]\n",
            " [ 0  0  0  0  0  0 -1  0  0  0]\n",
            " [ 0  0  0  0  0  0  0  0  0 -1]\n",
            " [ 0  0  0  0  0  0  0  1  0  0]\n",
            " [ 0  0  0 -1  0  0  0  0  0 -1]\n",
            " [ 0  0  0  0  0 -1  0  0  0  0]\n",
            " [ 0  0  0  0  0  0  0  0  0  0]\n",
            " [ 0  0  0  0  1  0  1  0  0  0]]\n",
            "[[ 0 -1  0  0 -1  0  0  0  0  0]\n",
            " [-1  0  0  0  0  0  0  0  0  0]\n",
            " [ 0  0  0  0  0  0  0  0  0  0]\n",
            " [ 0  0  0  0  0  0 -1  0  0  0]\n",
            " [ 1  0  0  0  0  0  0  0  0 -1]\n",
            " [ 0  0  0  0  0  0  0 -1  0  0]\n",
            " [ 0  0  0 -1  0  0  0  0  0 -1]\n",
            " [ 0  0  0  0  0 -1  0  0  0  0]\n",
            " [ 0  0  0  0  0  0  0  0  0  0]\n",
            " [ 0  0  0  0  1  0  1  0  0  0]]\n",
            "[[ 0 -1  0  0 -1  0  0  0  0  0]\n",
            " [-1  0  0  0  0  0  0 -1  0  0]\n",
            " [ 0  0  0  0  0  0  0  0  0  0]\n",
            " [ 0  0  0  0  0  0 -1  0  0  0]\n",
            " [-1  0  0  0  0  0  0  0  0 -1]\n",
            " [ 0  0  0  0  0  0  0 -1  0  0]\n",
            " [ 0  0  0 -1  0  0  0  0  0 -1]\n",
            " [ 0  1  0  0  0  1  0  0  0  0]\n",
            " [ 0  0  0  0  0  0  0  0  0  0]\n",
            " [ 0  0  0  0  1  0  1  0  0  0]]\n",
            "[[ 0 -1  0  0 -1  0  0  0  0  0]\n",
            " [-1  0  0  0  0  0  0 -1  0  0]\n",
            " [ 0  0  0  1  0  0  0  0  0  0]\n",
            " [ 0  0 -1  0  0  0 -1  0  0  0]\n",
            " [-1  0  0  0  0  0  0  0  0 -1]\n",
            " [ 0  0  0  0  0  0  0 -1  0  0]\n",
            " [ 0  0  0 -1  0  0  0  0  0 -1]\n",
            " [ 0  1  0  0  0  1  0  0  0  0]\n",
            " [ 0  0  0  0  0  0  0  0  0  0]\n",
            " [ 0  0  0  0  1  0  1  0  0  0]]\n",
            "[[ 0 -1 -1  0 -1  0  0  0  0  0]\n",
            " [-1  0  0  0  0  0  0 -1  0  0]\n",
            " [ 1  0  0 -1  0  0  0  0  0  0]\n",
            " [ 0  0 -1  0  0  0 -1  0  0  0]\n",
            " [-1  0  0  0  0  0  0  0  0 -1]\n",
            " [ 0  0  0  0  0  0  0 -1  0  0]\n",
            " [ 0  0  0 -1  0  0  0  0  0 -1]\n",
            " [ 0  1  0  0  0  1  0  0  0  0]\n",
            " [ 0  0  0  0  0  0  0  0  0  0]\n",
            " [ 0  0  0  0  1  0  1  0  0  0]]\n",
            "[[ 0 -1 -1  0 -1  0  0  0  0  0]\n",
            " [-1  0  0  0  0  0  0 -1  0  0]\n",
            " [-1  0  0 -1  0  0  0  0  0  0]\n",
            " [ 0  0 -1  0  0  0 -1  0  0  0]\n",
            " [-1  0  0  0  0  0  0  0  0 -1]\n",
            " [ 0  0  0  0  0  0  0 -1  0  0]\n",
            " [ 0  0  0 -1  0  0  0  0  0 -1]\n",
            " [ 0  1  0  0  0  1  0  0 -1  0]\n",
            " [ 0  0  0  0  0  0  0  1  0  0]\n",
            " [ 0  0  0  0  1  0  1  0  0  0]]\n",
            "[[ 0 -1 -1  0 -1  0  0  0  0  0]\n",
            " [-1  0  1  0  0  0  0 -1  0  0]\n",
            " [-1 -1  0 -1  0  0  0  0  0  0]\n",
            " [ 0  0 -1  0  0  0 -1  0  0  0]\n",
            " [-1  0  0  0  0  0  0  0  0 -1]\n",
            " [ 0  0  0  0  0  0  0 -1  0  0]\n",
            " [ 0  0  0 -1  0  0  0  0  0 -1]\n",
            " [ 0  1  0  0  0  1  0  0 -1  0]\n",
            " [ 0  0  0  0  0  0  0  1  0  0]\n",
            " [ 0  0  0  0  1  0  1  0  0  0]]\n",
            "[[ 0 -1 -1  0 -1  0  0  0  0  0]\n",
            " [-1  0 -1  0  0  0  0 -1  0  0]\n",
            " [-1 -1  0 -1  0  0  0  0  0  0]\n",
            " [ 0  0 -1  0  0  0 -1  0  0  0]\n",
            " [-1  0  0  0  0  0  0  0  0 -1]\n",
            " [ 0  0  0  0  0  0  0 -1  0  0]\n",
            " [ 0  0  0 -1  0  0  0  0  0 -1]\n",
            " [ 0  1  0  0  0  1  0  0 -1  0]\n",
            " [ 0  0  0  0  0  0  0  1  0  1]\n",
            " [ 0  0  0  0  1  0  1  0 -1  0]]\n",
            "[[ 0 -1 -1  0 -1  0  0  0  0  0]\n",
            " [-1  0 -1  0  0  0  0 -1  0  0]\n",
            " [-1 -1  0 -1  0  0  0  0  0  0]\n",
            " [ 0  0  1  0  1  0 -1  0  0  0]\n",
            " [-1  0  0 -1  0  0  0  0  0 -1]\n",
            " [ 0  0  0  0  0  0  0 -1  0  0]\n",
            " [ 0  0  0 -1  0  0  0  0  0 -1]\n",
            " [ 0  1  0  0  0  1  0  0 -1  0]\n",
            " [ 0  0  0  0  0  0  0  1  0  1]\n",
            " [ 0  0  0  0  1  0  1  0 -1  0]]\n",
            "[[ 0 -1 -1  0 -1  0  0  0  0 -1]\n",
            " [-1  0 -1  0  0  0  0 -1  0  0]\n",
            " [-1 -1  0 -1  0  0  0  0  0  0]\n",
            " [ 0  0  1  0  1  0 -1  0  0  0]\n",
            " [-1  0  0 -1  0  0  0  0  0 -1]\n",
            " [ 0  0  0  0  0  0  0 -1  0  0]\n",
            " [ 0  0  0  1  0  0  0  0  0 -1]\n",
            " [ 0  1  0  0  0  1  0  0 -1  0]\n",
            " [ 0  0  0  0  0  0  0  1  0  1]\n",
            " [ 1  0  0  0  1  0  1  0 -1  0]]\n",
            "[[ 0 -1 -1  0 -1  0  0  0  0 -1]\n",
            " [-1  0 -1  0  0  0  0 -1  0  0]\n",
            " [-1 -1  0 -1  0  0  0  1  0  0]\n",
            " [ 0  0  1  0  1  0 -1  0  0  0]\n",
            " [-1  0  0 -1  0  0  0  0  0 -1]\n",
            " [ 0  0  0  0  0  0  0 -1  0  0]\n",
            " [ 0  0  0  1  0  0  0  0  0 -1]\n",
            " [ 0  1 -1  0  0  1  0  0 -1  0]\n",
            " [ 0  0  0  0  0  0  0  1  0  1]\n",
            " [ 1  0  0  0  1  0  1  0 -1  0]]\n",
            "backward\n"
          ]
        },
        {
          "data": {
            "image/png": "[encoded data removed]",
            "text/plain": [
              "<Figure size 432x288 with 1 Axes>"
            ]
          },
          "metadata": {
            "needs_background": "light"
          },
          "output_type": "display_data"
        },
        {
          "name": "stdout",
          "output_type": "stream",
          "text": [
            "{'update1': [[6, 3, ()], [9, 6, ()], [1, 0, ()], [4, 9, [6]], [7, 5, ()], [0, 4, ()], [1, 7, [5]], [3, 2, ()], [0, 2, ()], [7, 8, ()], [2, 1, ()], [9, 8, ()], [4, 3, (2,)], [0, 9, ()], [7, 2, ()]], 'update2': [], 'G_step1': [<causallearn.graph.GeneralGraph.GeneralGraph object at 0x7f34d303ffd0>, <causallearn.graph.GeneralGraph.GeneralGraph object at 0x7f34d3051ee0>, <causallearn.graph.GeneralGraph.GeneralGraph object at 0x7f34d3051970>, <causallearn.graph.GeneralGraph.GeneralGraph object at 0x7f34d2fe9c10>, <causallearn.graph.GeneralGraph.GeneralGraph object at 0x7f34d2fe9c40>, <causallearn.graph.GeneralGraph.GeneralGraph object at 0x7f34d30368b0>, <causallearn.graph.GeneralGraph.GeneralGraph object at 0x7f34d2fe5f40>, <causallearn.graph.GeneralGraph.GeneralGraph object at 0x7f34d2fe5fa0>, <causallearn.graph.GeneralGraph.GeneralGraph object at 0x7f34d2fe5460>, <causallearn.graph.GeneralGraph.GeneralGraph object at 0x7f34d2feedf0>, <causallearn.graph.GeneralGraph.GeneralGraph object at 0x7f34d2ff2fd0>, <causallearn.graph.GeneralGraph.GeneralGraph object at 0x7f34d2ff2c40>, <causallearn.graph.GeneralGraph.GeneralGraph object at 0x7f34d2ff2cd0>, <causallearn.graph.GeneralGraph.GeneralGraph object at 0x7f34d2feed90>, <causallearn.graph.GeneralGraph.GeneralGraph object at 0x7f34d2ff64f0>], 'G_step2': [], 'G': <causallearn.graph.GeneralGraph.GeneralGraph object at 0x7f34d2ff64f0>, 'score': 347.2786963957233}\n"
          ]
        }
      ],
      "source": [
        "from causallearn.search.ScoreBased.GES import ges\n",
        "\n",
        "# Visualization using pydot\n",
        "from causallearn.utils.GraphUtils import GraphUtils\n",
        "import matplotlib.image as mpimg\n",
        "import matplotlib.pyplot as plt\n",
        "import io\n",
        "\n",
        "with open(\"/content/Causal-Inferance-GES/dataset/FDS PartD Tutorial/example_data1.pk\", 'rb') as example_data1:\n",
        "            # example_data1 = load(open(\"example_data1.pk\", 'rb'))\n",
        "            example_data1 = load(example_data1)\n",
        "            G_truth = example_data1['G_truth']\n",
        "            X = example_data1['X']\n",
        "            X = X - np.tile(np.mean(X, axis=0), (X.shape[0], 1))\n",
        "            X = np.dot(X, np.diag(1 / np.std(X, axis=0)))\n",
        "            maxP = len(example_data1['X'][0])  # maximum number of parents when searching the graph\n",
        "            parameters = {'kfold': 10, 'lambda': 0.01}\n",
        "            X = X[:50, :]\n",
        "            Record = ges(X, 'local_score_CV_general', maxP=maxP, parameters=parameters)\n",
        "            #Record = ges(X, 'local_score_BIC', maxP=maxP, parameters=parameters)\n",
        "\n",
        "            pyd = GraphUtils.to_pydot(Record['G'])\n",
        "            tmp_png = pyd.create_png(f=\"png\")\n",
        "            fp = io.BytesIO(tmp_png)\n",
        "            img = mpimg.imread(fp, format='png')\n",
        "            plt.axis('off')\n",
        "            plt.imshow(img)\n",
        "            plt.show()\n",
        "\n",
        "            print(Record)\n",
        "\n",
        "# or save the graph\n",
        "pyd.write_png('simple_testdata1.png')"
      ]
    },
    {
      "cell_type": "code",
      "execution_count": 8,
      "metadata": {
        "colab": {
          "base_uri": "https://localhost:8080/"
        },
        "id": "PSl0kfbWs4z9",
        "outputId": "b866f351-c551-4209-c26a-174f6fa8e2b1"
      },
      "outputs": [
        {
          "name": "stdout",
          "output_type": "stream",
          "text": [
            "[[ 0.44229594  0.47722119  1.         ...  0.79050091  0.74973244\n",
            "   0.99296001]\n",
            " [ 0.34760155  0.27953493  1.         ...  0.6863014   0.96295868\n",
            "   0.83202738]\n",
            " [-0.16108262 -0.11377638  0.         ... -0.21502217 -0.04457829\n",
            "  -0.49374771]\n",
            " ...\n",
            " [-0.46768544 -0.16820463  0.         ... -0.22720475  0.03271168\n",
            "  -0.2371647 ]\n",
            " [ 0.36519111  0.1416438   2.         ...  0.61801182  0.91872247\n",
            "   0.81896031]\n",
            " [-0.11894466 -0.3038887   1.         ...  0.89271029  0.99345645\n",
            "   0.86569722]]\n"
          ]
        }
      ],
      "source": [
        "print(example_data1['X'])"
      ]
    },
    {
      "cell_type": "code",
      "execution_count": 9,
      "metadata": {
        "colab": {
          "base_uri": "https://localhost:8080/"
        },
        "id": "7jR4oBHqtCLo",
        "outputId": "d4ce377b-2ef6-45b4-fd85-ef371e93ccbe"
      },
      "outputs": [
        {
          "name": "stdout",
          "output_type": "stream",
          "text": [
            "500\n"
          ]
        }
      ],
      "source": [
        "print(len(example_data1['X']))"
      ]
    },
    {
      "cell_type": "code",
      "execution_count": 10,
      "metadata": {
        "colab": {
          "base_uri": "https://localhost:8080/"
        },
        "id": "6Ux0tJY1tLwM",
        "outputId": "09916cf8-0e79-486e-8f62-476402607f0d"
      },
      "outputs": [
        {
          "name": "stdout",
          "output_type": "stream",
          "text": [
            "10\n"
          ]
        }
      ],
      "source": [
        "print(len(example_data1['X'][0]))"
      ]
    },
    {
      "cell_type": "code",
      "execution_count": 11,
      "metadata": {
        "colab": {
          "base_uri": "https://localhost:8080/"
        },
        "id": "5SOAnqNI6v89",
        "outputId": "526b4bd4-b02d-47b2-bed9-04b5bb708d5e"
      },
      "outputs": [
        {
          "name": "stdout",
          "output_type": "stream",
          "text": [
            "dict_keys(['update1', 'update2', 'G_step1', 'G_step2', 'G', 'score'])\n"
          ]
        }
      ],
      "source": [
        "print(Record.keys())"
      ]
    },
    {
      "cell_type": "code",
      "execution_count": 12,
      "metadata": {
        "colab": {
          "base_uri": "https://localhost:8080/"
        },
        "id": "GRXAUvDZ623r",
        "outputId": "a91cf386-a56e-4145-b7d8-389228159565"
      },
      "outputs": [
        {
          "name": "stdout",
          "output_type": "stream",
          "text": [
            "347.2786963957233\n"
          ]
        }
      ],
      "source": [
        "print(Record[\"score\"])"
      ]
    },
    {
      "cell_type": "code",
      "execution_count": 13,
      "metadata": {
        "colab": {
          "base_uri": "https://localhost:8080/",
          "height": 1000
        },
        "id": "HB6Uh_i0gAf6",
        "outputId": "9a6a4068-c085-451e-e74c-ad2d9959617f"
      },
      "outputs": [
        {
          "name": "stdout",
          "output_type": "stream",
          "text": [
            "[[ 0  0  0  0  0]\n",
            " [ 0  0  0  0  0]\n",
            " [ 0  0  0  0  0]\n",
            " [ 0  0  0  0  1]\n",
            " [ 0  0  0 -1  0]]\n",
            "[[ 0  0  0  0  0]\n",
            " [ 0  0  0  0  0]\n",
            " [ 0  0  0 -1  0]\n",
            " [ 0  0  1  0 -1]\n",
            " [ 0  0  0 -1  0]]\n",
            "[[ 0  0  0  0  0]\n",
            " [ 0  0  1  0  0]\n",
            " [ 0 -1  0 -1  0]\n",
            " [ 0  0 -1  0 -1]\n",
            " [ 0  0  0 -1  0]]\n",
            "[[ 0 -1  0  0  0]\n",
            " [ 1  0 -1  0  0]\n",
            " [ 0 -1  0 -1  0]\n",
            " [ 0  0 -1  0 -1]\n",
            " [ 0  0  0 -1  0]]\n",
            "[[ 0 -1  0  0  0]\n",
            " [-1  0 -1  1  0]\n",
            " [ 0 -1  0 -1  0]\n",
            " [ 0 -1 -1  0 -1]\n",
            " [ 0  0  0 -1  0]]\n",
            "[[ 0 -1  0  0  0]\n",
            " [-1  0 -1 -1 -1]\n",
            " [ 0 -1  0 -1  0]\n",
            " [ 0 -1 -1  0 -1]\n",
            " [ 0  1  0 -1  0]]\n",
            "[[ 0 -1  0  0  0]\n",
            " [-1  0 -1 -1 -1]\n",
            " [ 0 -1  0 -1 -1]\n",
            " [ 0 -1 -1  0 -1]\n",
            " [ 0 -1  1 -1  0]]\n",
            "backward\n",
            "[[ 0 -1  0  0  0]\n",
            " [-1  0 -1 -1 -1]\n",
            " [ 0 -1  0 -1  0]\n",
            " [ 0 -1 -1  0 -1]\n",
            " [ 0 -1  0 -1  0]]\n",
            "[[ 0 -1  0  0  0]\n",
            " [-1  0 -1 -1  0]\n",
            " [ 0 -1  0 -1  0]\n",
            " [ 0 -1 -1  0 -1]\n",
            " [ 0  0  0 -1  0]]\n"
          ]
        },
        {
          "data": {
            "image/png": "[encoded data removed]",
            "text/plain": [
              "<Figure size 432x288 with 1 Axes>"
            ]
          },
          "metadata": {
            "needs_background": "light"
          },
          "output_type": "display_data"
        },
        {
          "name": "stdout",
          "output_type": "stream",
          "text": [
            "{'update1': [[4, 3, ()], [2, 3, ()], [2, 1, ()], [0, 1, ()], [3, 1, ()], [1, 4, ()], [2, 4, ()]], 'update2': [[4, 2, ()], [4, 1, ()]], 'G_step1': [<causallearn.graph.GeneralGraph.GeneralGraph object at 0x7f34d02660a0>, <causallearn.graph.GeneralGraph.GeneralGraph object at 0x7f34d0266b50>, <causallearn.graph.GeneralGraph.GeneralGraph object at 0x7f34d3545a60>, <causallearn.graph.GeneralGraph.GeneralGraph object at 0x7f34d0276ca0>, <causallearn.graph.GeneralGraph.GeneralGraph object at 0x7f34d02765b0>, <causallearn.graph.GeneralGraph.GeneralGraph object at 0x7f34d0276d30>, <causallearn.graph.GeneralGraph.GeneralGraph object at 0x7f34d0276fd0>], 'G_step2': [<causallearn.graph.GeneralGraph.GeneralGraph object at 0x7f34d0271dc0>, <causallearn.graph.GeneralGraph.GeneralGraph object at 0x7f34d0271ee0>], 'G': <causallearn.graph.GeneralGraph.GeneralGraph object at 0x7f34d0271ee0>, 'score': 149.43724700778296}\n"
          ]
        }
      ],
      "source": [
        "from causallearn.search.ScoreBased.GES import ges\n",
        "\n",
        "# Visualization using pydot\n",
        "from causallearn.utils.GraphUtils import GraphUtils\n",
        "import matplotlib.image as mpimg\n",
        "import matplotlib.pyplot as plt\n",
        "import io\n",
        "\n",
        "with open(\"/content/Causal-Inferance-GES/dataset/FDS PartD Tutorial/example_data2.pk\", 'rb') as example_data:\n",
        "            # example_data = load(open(\"example_data2.pk\", 'rb'))\n",
        "            example_data = load(example_data)\n",
        "            Data_save = example_data['Data_save']\n",
        "            G_save = example_data['G_save']\n",
        "            d_label_save = example_data['d_label_save']\n",
        "\n",
        "            trial = 0\n",
        "            N = G_save[trial].shape[0]\n",
        "            X = Data_save[trial]\n",
        "            X = X - np.tile(np.mean(X, axis=0), (X.shape[0], 1))\n",
        "            X = np.dot(X, np.diag(1 / np.std(X, axis=0)))\n",
        "            \n",
        "            maxP = len(example_data['Data_save'][0])  # maximum number of parents when searching the graph\n",
        "            #maxP = 3  # maximum number of parents when searching the graph\n",
        "            parameters = {'kfold': 10,\n",
        "                          'lambda': 0.01,\n",
        "                          'dlabel': d_label_save[trial]}  # indicate which dimensions belong to the i-th variable.\n",
        "            X = X[:50, :]\n",
        "            Record = ges(X, 'local_score_CV_multi', maxP=maxP, parameters=parameters)\n",
        "\n",
        "            pyd = GraphUtils.to_pydot(Record['G'])\n",
        "            tmp_png = pyd.create_png(f=\"png\")\n",
        "            fp = io.BytesIO(tmp_png)\n",
        "            img = mpimg.imread(fp, format='png')\n",
        "            plt.axis('off')\n",
        "            plt.imshow(img)\n",
        "            plt.show()\n",
        "\n",
        "            print(Record)\n",
        "\n",
        "# or save the graph\n",
        "pyd.write_png('simple_testdata2.png')"
      ]
    },
    {
      "cell_type": "code",
      "execution_count": 14,
      "metadata": {
        "colab": {
          "base_uri": "https://localhost:8080/",
          "height": 407
        },
        "id": "kBxay9Q-hcg2",
        "outputId": "3d48d767-bc08-4dcd-cf15-8501791ad531"
      },
      "outputs": [
        {
          "name": "stdout",
          "output_type": "stream",
          "text": [
            "[[ 0  0  0]\n",
            " [ 0  0 -1]\n",
            " [ 0  1  0]]\n",
            "[[ 0  0 -1]\n",
            " [ 0  0 -1]\n",
            " [ 1  1  0]]\n",
            "backward\n"
          ]
        },
        {
          "data": {
            "image/png": "[encoded data removed]",
            "text/plain": [
              "<Figure size 432x288 with 1 Axes>"
            ]
          },
          "metadata": {
            "needs_background": "light"
          },
          "output_type": "display_data"
        },
        {
          "name": "stdout",
          "output_type": "stream",
          "text": [
            "{'update1': [[1, 2, ()], [0, 2, [1]]], 'update2': [], 'G_step1': [<causallearn.graph.GeneralGraph.GeneralGraph object at 0x7f34d2feed90>, <causallearn.graph.GeneralGraph.GeneralGraph object at 0x7f34d2ff2700>], 'G_step2': [], 'G': <causallearn.graph.GeneralGraph.GeneralGraph object at 0x7f34d2ff2700>, 'score': matrix([[-556.07929478]])}\n"
          ]
        }
      ],
      "source": [
        "from causallearn.search.ScoreBased.GES import ges\n",
        "\n",
        "# Visualization using pydot\n",
        "from causallearn.utils.GraphUtils import GraphUtils\n",
        "import matplotlib.image as mpimg\n",
        "import matplotlib.pyplot as plt\n",
        "import io\n",
        "with open(\"/content/Causal-Inferance-GES/dataset/FDS PartD Tutorial/example_data3.pk\", 'rb') as example_data:\n",
        "            # example_data = load(open(\"example_data3.pk\", 'rb'))\n",
        "            example_data = load(example_data)\n",
        "            X = example_data['X']\n",
        "            maxP = example_data['maxP']\n",
        "            # X = X[:50, :]\n",
        "            Record = ges(X, 'local_score_BIC', maxP=maxP)\n",
        "\n",
        "            pyd = GraphUtils.to_pydot(Record['G'])\n",
        "            tmp_png = pyd.create_png(f=\"png\")\n",
        "            fp = io.BytesIO(tmp_png)\n",
        "            img = mpimg.imread(fp, format='png')\n",
        "            plt.axis('off')\n",
        "            plt.imshow(img)\n",
        "            plt.show()\n",
        "\n",
        "            print(Record)\n",
        "# or save the graph\n",
        "pyd.write_png('simple_testdata3.png')"
      ]
    },
    {
      "cell_type": "code",
      "execution_count": 14,
      "metadata": {
        "id": "51sHoIrDG4FU"
      },
      "outputs": [],
      "source": []
    }
  ],
  "metadata": {
    "accelerator": "GPU",
    "colab": {
      "provenance": []
    },
    "gpuClass": "standard",
    "kernelspec": {
      "display_name": "Python 3.8.5 ('base')",
      "language": "python",
      "name": "python3"
    },
    "language_info": {
      "name": "python",
      "version": "3.8.5"
    },
    "vscode": {
      "interpreter": {
        "hash": "a32783a5d77849cdbea9a9bbcd9ccf13da0296094407439f5d17e689ed0d5976"
      }
    }
  },
  "nbformat": 4,
  "nbformat_minor": 0
}
